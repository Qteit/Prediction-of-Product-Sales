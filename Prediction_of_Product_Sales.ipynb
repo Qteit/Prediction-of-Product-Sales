{
  "nbformat": 4,
  "nbformat_minor": 0,
  "metadata": {
    "colab": {
      "provenance": [],
      "authorship_tag": "ABX9TyNilFoo64Z8VlbrxbdctwW5",
      "include_colab_link": true
    },
    "kernelspec": {
      "name": "python3",
      "display_name": "Python 3"
    },
    "language_info": {
      "name": "python"
    }
  },
  "cells": [
    {
      "cell_type": "markdown",
      "metadata": {
        "id": "view-in-github",
        "colab_type": "text"
      },
      "source": [
        "<a href=\"https://colab.research.google.com/github/Qteit/Prediction-of-Product-Sales/blob/main/Prediction_of_Product_Sales.ipynb\" target=\"_parent\"><img src=\"https://colab.research.google.com/assets/colab-badge.svg\" alt=\"Open In Colab\"/></a>"
      ]
    },
    {
      "cell_type": "markdown",
      "source": [
        "#Project Title : Prediction of Product Sales\n",
        "#Auther : Oday Qteit"
      ],
      "metadata": {
        "id": "D1CLXeZxjoe8"
      }
    },
    {
      "cell_type": "markdown",
      "source": [
        "## \"Project Overview\""
      ],
      "metadata": {
        "id": "Txt3ESPOkKpv"
      }
    },
    {
      "cell_type": "markdown",
      "source": [
        "## \"Load and Inspect Data\""
      ],
      "metadata": {
        "id": "0TRUASV-kNK9"
      }
    },
    {
      "cell_type": "markdown",
      "source": [
        "## \"Clean Data\""
      ],
      "metadata": {
        "id": "A3_SG8XikO1o"
      }
    },
    {
      "cell_type": "markdown",
      "source": [
        "## \"Exploratory Data Analysis\""
      ],
      "metadata": {
        "id": "VZJ1C1T6kVap"
      }
    },
    {
      "cell_type": "markdown",
      "source": [
        "## \"Feature Inspection\"\n"
      ],
      "metadata": {
        "id": "9x7HAQW3kXGy"
      }
    }
  ]
}